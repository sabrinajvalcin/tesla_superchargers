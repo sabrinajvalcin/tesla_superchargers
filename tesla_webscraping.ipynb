{
 "cells": [
  {
   "cell_type": "markdown",
   "metadata": {},
   "source": [
    "- - -\n",
    "<!--NAVIGATION-->\n",
    "Tesla Superchargers in the United States |\n",
    "**[Retrieving the data](./tesla_webscraping.ipynb)** | [Cleaning the data](./tesla_clean.ipynb)\n",
    "- - -"
   ]
  },
  {
   "cell_type": "markdown",
   "metadata": {},
   "source": [
    "# Tesla Superchargers"
   ]
  },
  {
   "cell_type": "code",
   "execution_count": 2,
   "metadata": {},
   "outputs": [],
   "source": [
    "import requests\n",
    "import pandas as pd\n",
    "from bs4 import BeautifulSoup"
   ]
  },
  {
   "cell_type": "code",
   "execution_count": 44,
   "metadata": {},
   "outputs": [],
   "source": [
    "URL = 'https://www.tesla.com/findus/list/superchargers/United+States'\n",
    "main_page = requests.get(URL)\n"
   ]
  },
  {
   "cell_type": "code",
   "execution_count": 46,
   "metadata": {},
   "outputs": [],
   "source": [
    "main_soup = BeautifulSoup(main_page.content, 'html.parser')"
   ]
  },
  {
   "cell_type": "code",
   "execution_count": 12,
   "metadata": {},
   "outputs": [
    {
     "data": {
      "text/plain": [
       "<title>Tesla Superchargers in United States | Tesla</title>"
      ]
     },
     "execution_count": 12,
     "metadata": {},
     "output_type": "execute_result"
    }
   ],
   "source": [
    "main_soup.title"
   ]
  },
  {
   "cell_type": "code",
   "execution_count": 13,
   "metadata": {},
   "outputs": [
    {
     "data": {
      "text/plain": [
       "'title'"
      ]
     },
     "execution_count": 13,
     "metadata": {},
     "output_type": "execute_result"
    }
   ],
   "source": [
    "main_soup.title.name"
   ]
  },
  {
   "cell_type": "code",
   "execution_count": 14,
   "metadata": {},
   "outputs": [
    {
     "data": {
      "text/plain": [
       "'Tesla Superchargers in United States | Tesla'"
      ]
     },
     "execution_count": 14,
     "metadata": {},
     "output_type": "execute_result"
    }
   ],
   "source": [
    "main_soup.title.string"
   ]
  },
  {
   "cell_type": "code",
   "execution_count": 15,
   "metadata": {},
   "outputs": [
    {
     "data": {
      "text/plain": [
       "'meta'"
      ]
     },
     "execution_count": 15,
     "metadata": {},
     "output_type": "execute_result"
    }
   ],
   "source": [
    "main_soup.title.parent.name"
   ]
  },
  {
   "cell_type": "code",
   "execution_count": 16,
   "metadata": {},
   "outputs": [
    {
     "data": {
      "text/plain": [
       "<a href=\"/findus/list\">Back to list</a>"
      ]
     },
     "execution_count": 16,
     "metadata": {},
     "output_type": "execute_result"
    }
   ],
   "source": [
    "main_soup.a"
   ]
  },
  {
   "cell_type": "markdown",
   "metadata": {},
   "source": [
    "#### Parse each link of supercharger locations to get the following attributes:\n",
    "- station_name\n",
    "- type of charger\n",
    "- street address\n",
    "- extended address\n",
    "- city\n",
    "- state\n",
    "- zip\n",
    "- longitude\n",
    "- latitude\n",
    "- number of chargers\n",
    "- power capacity\n",
    "- wifi\n",
    "- restaurants\n",
    "- lodging\n",
    "- shopping\n",
    "- beverage"
   ]
  },
  {
   "cell_type": "code",
   "execution_count": 47,
   "metadata": {},
   "outputs": [],
   "source": [
    "all_links = []\n",
    "for element in main_soup.find_all('a'):\n",
    "    link = element.get('href')\n",
    "    all_links.append(f'http://tesla.com{link}')"
   ]
  },
  {
   "cell_type": "code",
   "execution_count": 48,
   "metadata": {},
   "outputs": [],
   "source": [
    "supercharger_links = all_links[1:]"
   ]
  },
  {
   "cell_type": "markdown",
   "metadata": {},
   "source": [
    "1. Superchargers that are not yet open has a class named \"coming-soon\"<br><br>\n",
    "2. We are only interested in those with a class named \"type-charger\"<br><br>\n",
    "3. The attrbutes of interest are in a section element with the class name \"find-us-list-details\""
   ]
  },
  {
   "cell_type": "code",
   "execution_count": 64,
   "metadata": {},
   "outputs": [],
   "source": [
    "NA = 'not available'\n",
    "EMPTY_STRING = ''\n",
    "COMMA = ','\n",
    "\n",
    "def getPageSoup(session, link):\n",
    "    page1 = session.get(link)\n",
    "    return BeautifulSoup(page1.content, 'html.parser')\n",
    "\n",
    "def isChargingStation(soup):\n",
    "    if soup.find('li', class_ = 'type-charger') == None:\n",
    "        return False\n",
    "    return True\n",
    "\n",
    "def isComingSoon(soup):\n",
    "    if soup.find(class_ = 'coming-soon') == None:\n",
    "        return False\n",
    "    return True\n",
    "\n",
    "\n",
    "def findCharge(card):\n",
    "    charge = card.find_all('p')\n",
    "    for p in charge:\n",
    "        if 'charg' in p.text.lower():\n",
    "            if(p.strings):\n",
    "                return p.strings\n",
    "            return p.text.strip()\n",
    "    return NA\n",
    "\n",
    "def getStreetAddress(section):\n",
    "    street_addr = NA\n",
    "    ext_addr = NA\n",
    "    line_1 = section.find('span', class_ = 'street-address')\n",
    "    line_2 = section.find('span', class_ = 'extended-address')\n",
    "    if(line_1):\n",
    "        street_addr = line_1.text.strip()\n",
    "    if(line_2):\n",
    "            ext_addr = line_2.text.strip()\n",
    "    return street_addr, ext_addr\n",
    "\n",
    "def getLocality(section):\n",
    "    try:\n",
    "        locality = section.find('span', class_ = 'locality').string.split(COMMA)\n",
    "        city = locality[0].strip()\n",
    "    except AttributeError:\n",
    "        return NA, NA, NA\n",
    "\n",
    "    try:\n",
    "        state_zip = locality[1].strip().split()\n",
    "        state = state_zip[0]\n",
    "    except IndexError:\n",
    "        state_zip = locality[2].strip().split()\n",
    "        state = state_zip[0]\n",
    " \n",
    "    try:\n",
    "        zip = state_zip[1]\n",
    "    except IndexError:\n",
    "        zip = NA\n",
    "    return city, state, zip\n",
    "\n",
    "def getCoordinates(section):\n",
    "    coord_a = section.find('a', string = lambda text: 'driv' in text.lower())\n",
    "    if not coord_a:\n",
    "        return NA, NA\n",
    "    coord_link = coord_a.get('href')\n",
    "    if 'map' in coord_link:\n",
    "        start_eq = coord_link.index('=')\n",
    "        try:\n",
    "            start_at = coord_link.index('@')\n",
    "            start = start_eq if start_eq < start_at else start_at\n",
    "        except ValueError:\n",
    "            start = start_eq\n",
    "        coordinates = coord_link[start +1:].split(COMMA)\n",
    "        lat = coordinates[0]\n",
    "        long = coordinates[1]\n",
    "        return lat, long\n",
    "    else:\n",
    "        return NA, NA\n",
    "\n",
    "\n",
    "def getChargingInfo(info_string):\n",
    "    num_chargers = EMPTY_STRING\n",
    "    power = EMPTY_STRING\n",
    "    availability = EMPTY_STRING\n",
    "\n",
    "    if info_string == NA:\n",
    "        num_chargers = num_chargers + NA\n",
    "        power = power + NA\n",
    "        availability = availability + NA\n",
    "    elif type(info_string) != 'str':\n",
    "        lines = list(info_string)\n",
    "        for line in lines:\n",
    "            if 'up to' not in line:\n",
    "                continue\n",
    "            else:\n",
    "                line = [l.strip() for l in line.split(COMMA)]\n",
    "                num_chargers = num_chargers + str(line[0][0: line[0].index('S') -1]) + COMMA\n",
    "                availability = availability + str(line[1]) + COMMA\n",
    "                power = power + str(line[2][line[2].index('o') + 2: line[2].index('k')]) + COMMA\n",
    "        num_chargers = num_chargers.strip(COMMA)\n",
    "        availability = availability.strip(COMMA)\n",
    "        power = power.strip(COMMA)\n",
    "    else:\n",
    "        try:\n",
    "            info = [x.strip() for x in info_string.split(COMMA)]\n",
    "            num_chargers = num_chargers + str(info[0][0: info[0].index('S') -1])\n",
    "            availability = availability + str(line[1])\n",
    "            power = power + str(line[2][line[2].index('o') + 2: line[2].index('k')])\n",
    "        except AttributeError:\n",
    "            return NA, NA, NA\n",
    "    return num_chargers, availability, power\n",
    "\n",
    "\n",
    "def getAmenities(section):\n",
    "    try:\n",
    "        amenities_icons = section.find('ul', class_ = 'amenities-icons').find_all('li')\n",
    "        amens = EMPTY_STRING\n",
    "        for amenity in amenities_icons:\n",
    "            amens = amens + (amenity.find('a').string.strip()) + COMMA\n",
    "        return amens.strip(COMMA)\n",
    "    except AttributeError:\n",
    "        return NA\n",
    "\n",
    "def renderRecord(soup, URL):\n",
    "    record = {\n",
    "                'coming_soon': None,\n",
    "                'street_address_1': None,\n",
    "                'street_address_2': None,\n",
    "                'city': None,\n",
    "                'state': None,\n",
    "                'station_name': None,\n",
    "                'zip': None,\n",
    "                'longitude': None,\n",
    "                'latitude': None,\n",
    "                'num_chargers': None,\n",
    "                'availability': None,\n",
    "                'power_kW': None,\n",
    "                'amenities': None,\n",
    "                'link': URL\n",
    "            }\n",
    "    if isChargingStation(soup):\n",
    "        if isComingSoon(soup):\n",
    "            record['coming_soon'] = True\n",
    "            try:\n",
    "                location = soup.find('header', class_ = 'findus-list-header').find('h1').text.split(COMMA)\n",
    "                record['city'] = location[0].strip()\n",
    "                record['state'] = location[1].strip()\n",
    "            except:\n",
    "                location = soup.find('header', class_ = 'findus-list-header').find('h1').text\n",
    "                record['city'] = location\n",
    "                record['state'] = NA\n",
    "\n",
    "        else:\n",
    "            record['coming_soon'] = False\n",
    "            record['station_name'] = soup.find('span', class_ = 'common-name').text.strip()\n",
    "            record['street_address_1'], record['street_address_2'] = getStreetAddress(soup)\n",
    "            record['city'], record['state'], record['zip'] = getLocality(soup)\n",
    "            vcard = soup.find('address')\n",
    "            record['latitude'], record['longitude'] = getCoordinates(vcard)\n",
    "            charger = findCharge(vcard)\n",
    "            record['num_chargers'], record['availability'], record['power_kW'] = getChargingInfo(charger)\n",
    "            record['amenities'] = getAmenities(vcard)\n",
    "    return record \n",
    "            \n",
    "            "
   ]
  },
  {
   "cell_type": "code",
   "execution_count": 66,
   "metadata": {},
   "outputs": [
    {
     "data": {
      "text/plain": [
       "[]"
      ]
     },
     "execution_count": 66,
     "metadata": {},
     "output_type": "execute_result"
    }
   ],
   "source": [
    "data = []\n",
    "data"
   ]
  },
  {
   "cell_type": "code",
   "execution_count": 67,
   "metadata": {},
   "outputs": [],
   "source": [
    "def main():\n",
    "    s = requests.Session()\n",
    "    for link in supercharger_links:\n",
    "        soup = getPageSoup(s, link)\n",
    "        data.append(renderRecord(soup, link))\n",
    "    s.close()\n",
    "        "
   ]
  },
  {
   "cell_type": "code",
   "execution_count": 68,
   "metadata": {},
   "outputs": [],
   "source": [
    "main()"
   ]
  },
  {
   "cell_type": "code",
   "execution_count": 69,
   "metadata": {},
   "outputs": [
    {
     "data": {
      "text/html": [
       "<div>\n",
       "<style scoped>\n",
       "    .dataframe tbody tr th:only-of-type {\n",
       "        vertical-align: middle;\n",
       "    }\n",
       "\n",
       "    .dataframe tbody tr th {\n",
       "        vertical-align: top;\n",
       "    }\n",
       "\n",
       "    .dataframe thead th {\n",
       "        text-align: right;\n",
       "    }\n",
       "</style>\n",
       "<table border=\"1\" class=\"dataframe\">\n",
       "  <thead>\n",
       "    <tr style=\"text-align: right;\">\n",
       "      <th></th>\n",
       "      <th>coming_soon</th>\n",
       "      <th>street_address_1</th>\n",
       "      <th>street_address_2</th>\n",
       "      <th>city</th>\n",
       "      <th>state</th>\n",
       "      <th>station_name</th>\n",
       "      <th>zip</th>\n",
       "      <th>longitude</th>\n",
       "      <th>latitude</th>\n",
       "      <th>num_chargers</th>\n",
       "      <th>availability</th>\n",
       "      <th>power_kW</th>\n",
       "      <th>amenities</th>\n",
       "      <th>link</th>\n",
       "    </tr>\n",
       "  </thead>\n",
       "  <tbody>\n",
       "    <tr>\n",
       "      <th>0</th>\n",
       "      <td>False</td>\n",
       "      <td>FAIRFIELD INN21282 Athens-Limestone Blvd.</td>\n",
       "      <td></td>\n",
       "      <td>Athens</td>\n",
       "      <td>AL</td>\n",
       "      <td>Athens, AL Supercharger</td>\n",
       "      <td>35613</td>\n",
       "      <td>-86.942864</td>\n",
       "      <td>34.785416</td>\n",
       "      <td>8</td>\n",
       "      <td>available 24/7</td>\n",
       "      <td>150</td>\n",
       "      <td>restaurants,wifi,lodging,restrooms</td>\n",
       "      <td>http://tesla.com/findus/location/supercharger/...</td>\n",
       "    </tr>\n",
       "    <tr>\n",
       "      <th>1</th>\n",
       "      <td>False</td>\n",
       "      <td>Tiger Crossing Shopping Center1617  South Coll...</td>\n",
       "      <td></td>\n",
       "      <td>Auburn</td>\n",
       "      <td>AL</td>\n",
       "      <td>Auburn, AL - South College Street Supercharger</td>\n",
       "      <td>36832</td>\n",
       "      <td>-85.498239</td>\n",
       "      <td>32.576339</td>\n",
       "      <td>12</td>\n",
       "      <td>available 24/7</td>\n",
       "      <td>250</td>\n",
       "      <td>restaurants,shopping,beverage,restrooms</td>\n",
       "      <td>http://tesla.com/findus/location/supercharger/...</td>\n",
       "    </tr>\n",
       "    <tr>\n",
       "      <th>2</th>\n",
       "      <td>False</td>\n",
       "      <td>Auburn Mall1627 Opelika Road</td>\n",
       "      <td></td>\n",
       "      <td>Auburn</td>\n",
       "      <td>AL</td>\n",
       "      <td>Auburn, AL Supercharger</td>\n",
       "      <td>36830-2871</td>\n",
       "      <td>-85.445105</td>\n",
       "      <td>32.627837</td>\n",
       "      <td>6</td>\n",
       "      <td>available 24/7</td>\n",
       "      <td>150</td>\n",
       "      <td>restaurants,wifi,shopping,restrooms</td>\n",
       "      <td>http://tesla.com/findus/location/supercharger/...</td>\n",
       "    </tr>\n",
       "    <tr>\n",
       "      <th>3</th>\n",
       "      <td>False</td>\n",
       "      <td>Uptown Entertainment District2221 Richard Arri...</td>\n",
       "      <td></td>\n",
       "      <td>Birmingham</td>\n",
       "      <td>AL</td>\n",
       "      <td>Birmingham, AL Supercharger</td>\n",
       "      <td>35203-1103</td>\n",
       "      <td>-86.807072</td>\n",
       "      <td>33.525826</td>\n",
       "      <td>8</td>\n",
       "      <td>available 24/7</td>\n",
       "      <td>150</td>\n",
       "      <td>restaurants,wifi,lodging,restrooms</td>\n",
       "      <td>http://tesla.com/findus/location/supercharger/...</td>\n",
       "    </tr>\n",
       "    <tr>\n",
       "      <th>4</th>\n",
       "      <td>False</td>\n",
       "      <td>Holiday Inn Express &amp; Suites Tuscaloosa 6350  ...</td>\n",
       "      <td></td>\n",
       "      <td>Cottondale</td>\n",
       "      <td>AL</td>\n",
       "      <td>Cottondale, AL Supercharger</td>\n",
       "      <td>35453</td>\n",
       "      <td>-87.450076</td>\n",
       "      <td>33.17466</td>\n",
       "      <td>8</td>\n",
       "      <td>available 24/7</td>\n",
       "      <td>250</td>\n",
       "      <td>wifi,lodging,beverage,restrooms</td>\n",
       "      <td>http://tesla.com/findus/location/supercharger/...</td>\n",
       "    </tr>\n",
       "  </tbody>\n",
       "</table>\n",
       "</div>"
      ],
      "text/plain": [
       "  coming_soon                                   street_address_1  \\\n",
       "0       False          FAIRFIELD INN21282 Athens-Limestone Blvd.   \n",
       "1       False  Tiger Crossing Shopping Center1617  South Coll...   \n",
       "2       False                       Auburn Mall1627 Opelika Road   \n",
       "3       False  Uptown Entertainment District2221 Richard Arri...   \n",
       "4       False  Holiday Inn Express & Suites Tuscaloosa 6350  ...   \n",
       "\n",
       "  street_address_2        city state  \\\n",
       "0                       Athens    AL   \n",
       "1                       Auburn    AL   \n",
       "2                       Auburn    AL   \n",
       "3                   Birmingham    AL   \n",
       "4                   Cottondale    AL   \n",
       "\n",
       "                                     station_name         zip   longitude  \\\n",
       "0                         Athens, AL Supercharger       35613  -86.942864   \n",
       "1  Auburn, AL - South College Street Supercharger       36832  -85.498239   \n",
       "2                         Auburn, AL Supercharger  36830-2871  -85.445105   \n",
       "3                     Birmingham, AL Supercharger  35203-1103  -86.807072   \n",
       "4                     Cottondale, AL Supercharger       35453  -87.450076   \n",
       "\n",
       "    latitude num_chargers    availability power_kW  \\\n",
       "0  34.785416            8  available 24/7      150   \n",
       "1  32.576339           12  available 24/7      250   \n",
       "2  32.627837            6  available 24/7      150   \n",
       "3  33.525826            8  available 24/7      150   \n",
       "4   33.17466            8  available 24/7      250   \n",
       "\n",
       "                                 amenities  \\\n",
       "0       restaurants,wifi,lodging,restrooms   \n",
       "1  restaurants,shopping,beverage,restrooms   \n",
       "2      restaurants,wifi,shopping,restrooms   \n",
       "3       restaurants,wifi,lodging,restrooms   \n",
       "4          wifi,lodging,beverage,restrooms   \n",
       "\n",
       "                                                link  \n",
       "0  http://tesla.com/findus/location/supercharger/...  \n",
       "1  http://tesla.com/findus/location/supercharger/...  \n",
       "2  http://tesla.com/findus/location/supercharger/...  \n",
       "3  http://tesla.com/findus/location/supercharger/...  \n",
       "4  http://tesla.com/findus/location/supercharger/...  "
      ]
     },
     "execution_count": 69,
     "metadata": {},
     "output_type": "execute_result"
    }
   ],
   "source": [
    "data_df = pd.DataFrame(data)\n",
    "data_df.head()"
   ]
  },
  {
   "cell_type": "code",
   "execution_count": 70,
   "metadata": {},
   "outputs": [],
   "source": [
    "data_df.to_csv('tesla_raw.csv', index=False)"
   ]
  },
  {
   "cell_type": "markdown",
   "metadata": {},
   "source": [
    "- - -\n",
    "<!--NAVIGATION-->\n",
    "Tesla Superchargers in the United States |\n",
    "**[Retrieving the data](./tesla_webscraping.ipynb)** | [Cleaning the data](./tesla_clean.ipynb)\n",
    "- - -"
   ]
  }
 ],
 "metadata": {
  "interpreter": {
   "hash": "e5084542ae41f8861c27402d3a1f08ee665357097bd3a320c3ce24b351956816"
  },
  "kernelspec": {
   "display_name": "Python 3.10.4 ('machineLearning')",
   "language": "python",
   "name": "python3"
  },
  "language_info": {
   "codemirror_mode": {
    "name": "ipython",
    "version": 3
   },
   "file_extension": ".py",
   "mimetype": "text/x-python",
   "name": "python",
   "nbconvert_exporter": "python",
   "pygments_lexer": "ipython3",
   "version": "3.10.4"
  },
  "orig_nbformat": 4
 },
 "nbformat": 4,
 "nbformat_minor": 2
}
